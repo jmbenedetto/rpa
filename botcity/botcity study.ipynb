{
 "cells": [
  {
   "cell_type": "code",
   "execution_count": null,
   "metadata": {},
   "outputs": [],
   "source": []
  }
 ],
 "metadata": {
  "kernelspec": {
   "display_name": "Python 3.10.6 ('std_env0310')",
   "language": "python",
   "name": "python3"
  },
  "language_info": {
   "name": "python",
   "version": "3.10.6"
  },
  "orig_nbformat": 4,
  "vscode": {
   "interpreter": {
    "hash": "790bcf96ba9c9e7a50927d8c88e13931f73366af590c2364dc17d364237b5f28"
   }
  }
 },
 "nbformat": 4,
 "nbformat_minor": 2
}
