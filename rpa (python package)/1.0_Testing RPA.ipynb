{
 "cells": [
  {
   "cell_type": "markdown",
   "id": "b05d2beb",
   "metadata": {},
   "source": [
    "# GOAL\n",
    "- Testing RPA to download user report from TalentCards."
   ]
  },
  {
   "cell_type": "markdown",
   "id": "e6a7314f",
   "metadata": {},
   "source": [
    "# PACKAGES"
   ]
  },
  {
   "cell_type": "code",
   "execution_count": 1,
   "id": "05ed37dc",
   "metadata": {},
   "outputs": [],
   "source": [
    "import rpa as r"
   ]
  },
  {
   "cell_type": "markdown",
   "id": "c401c6a7",
   "metadata": {},
   "source": [
    "# PARAMETERS"
   ]
  },
  {
   "cell_type": "code",
   "execution_count": null,
   "id": "0b0b4be3",
   "metadata": {},
   "outputs": [],
   "source": []
  },
  {
   "cell_type": "markdown",
   "id": "7cdaa5af",
   "metadata": {},
   "source": [
    "# FUNCTIONS"
   ]
  },
  {
   "cell_type": "code",
   "execution_count": null,
   "id": "ce77a9c4",
   "metadata": {},
   "outputs": [],
   "source": []
  },
  {
   "cell_type": "markdown",
   "id": "41d7d6a9",
   "metadata": {},
   "source": [
    "# SCRIPTING"
   ]
  },
  {
   "cell_type": "code",
   "execution_count": null,
   "id": "31261713",
   "metadata": {},
   "outputs": [],
   "source": [
    "r.init()\n",
    "r.timeout(20)\n",
    "r.url('http://www.talentcards.com/login')\n",
    "r.type('//*[@id=\"frm_s1\"]','jmbenedetto@byhumane.com')\n",
    "r.type('//*[@id=\"frm_s2\"]','smep_spal5CAC-nink')\n",
    "r.click('//*[@id=\"submit-button-login\"]')\n",
    "r.click('//*[@id=\"vuetify-app\"]/div/header/div[1]/a[4]')\n",
    "r.click('//*[@id=\"root\"]/div/div/div/span/div/div[1]/div/div/div[1]/button')\n",
    "#r.click('//*[@id=\"vuetify-app\"]/div/main/div/div[3]/div[2]')\n",
    "r.click(\"//div[@class='toast toast-success']\")\n",
    "r.click(\"//button[@class='v-app-bar__nav-icon v-btn v-btn--flat v-btn--icon v-btn--round theme--dark v-size--default']\")\n",
    "r.click(\"//div[contains(text(),'Sign out')]\")\n",
    "r.close()"
   ]
  },
  {
   "cell_type": "code",
   "execution_count": null,
   "id": "4cdd3b62-5489-435a-99b8-4ad93d238c47",
   "metadata": {},
   "outputs": [],
   "source": [
    "r.close()"
   ]
  },
  {
   "cell_type": "code",
   "execution_count": null,
   "id": "93745224-1bc4-413a-85ae-a89552f15789",
   "metadata": {},
   "outputs": [],
   "source": []
  }
 ],
 "metadata": {
  "kernelspec": {
   "display_name": "Python 3.10.6 ('std_env0310')",
   "language": "python",
   "name": "python3"
  },
  "language_info": {
   "codemirror_mode": {
    "name": "ipython",
    "version": 3
   },
   "file_extension": ".py",
   "mimetype": "text/x-python",
   "name": "python",
   "nbconvert_exporter": "python",
   "pygments_lexer": "ipython3",
   "version": "3.10.6"
  },
  "vscode": {
   "interpreter": {
    "hash": "790bcf96ba9c9e7a50927d8c88e13931f73366af590c2364dc17d364237b5f28"
   }
  }
 },
 "nbformat": 4,
 "nbformat_minor": 5
}
